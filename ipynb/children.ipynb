{
 "cells": [
  {
   "cell_type": "code",
   "execution_count": null,
   "metadata": {},
   "outputs": [],
   "source": [
    "from tqdm import tqdm\n",
    "import json\n",
    "import requests\n",
    "import geopandas as gpd\n",
    "import geocoder\n",
    "import pandas as pd\n",
    "import numpy as np\n",
    "from shapely.geometry import LineString, Point, Polygon\n",
    "from func import *"
   ]
  },
  {
   "cell_type": "code",
   "execution_count": null,
   "metadata": {},
   "outputs": [],
   "source": [
    "specified_order = [\n",
    "    '北投區', '士林區', '內湖區', '南港區',\n",
    "    '松山區', '信義區', '中山區', '大同區',\n",
    "    '中正區', '萬華區', '大安區', '文山區'\n",
    "]"
   ]
  }
 ],
 "metadata": {
  "kernelspec": {
   "display_name": "Python 3",
   "language": "python",
   "name": "python3"
  },
  "language_info": {
   "name": "python",
   "version": "3.10.13"
  }
 },
 "nbformat": 4,
 "nbformat_minor": 2
}
